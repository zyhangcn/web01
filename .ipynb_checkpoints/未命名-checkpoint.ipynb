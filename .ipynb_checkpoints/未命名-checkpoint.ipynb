{
 "cells": [
  {
   "cell_type": "code",
   "execution_count": 5,
   "id": "numeric-carol",
   "metadata": {},
   "outputs": [
    {
     "name": "stdout",
     "output_type": "stream",
     "text": [
      "    你好                                  \n",
      "    抬头        看我           看看           \n",
      "  day1 day2 day3 day3332 day4 day423 da6\n",
      "0    1    2   22       3    4      5  22\n",
      "1    1    2   22       3    4      5  22\n",
      "2    1    2   22       3    4      5  22\n",
      "3    1    2   22       3    4      5  22\n",
      "    你好                                  \n",
      "    抬头        看我           看看           \n",
      "  day1 day2 day3 day3332 day4 day423 da6\n",
      "0    1    2   22       3    4      5  22\n",
      "1    1    2   22       3    4      5  22\n",
      "2    1    2   22       3    4      5  22\n",
      "3    1    2   22       3    4      5  22\n"
     ]
    }
   ],
   "source": [
    "import pandas as pd\n",
    "\n",
    "data = pd.read_excel('testw.xls')\n",
    "print(data)\n",
    "print(data.head())"
   ]
  }
 ],
 "metadata": {
  "kernelspec": {
   "display_name": "Python 3",
   "language": "python",
   "name": "python3"
  },
  "language_info": {
   "codemirror_mode": {
    "name": "ipython",
    "version": 3
   },
   "file_extension": ".py",
   "mimetype": "text/x-python",
   "name": "python",
   "nbconvert_exporter": "python",
   "pygments_lexer": "ipython3",
   "version": "3.8.6"
  }
 },
 "nbformat": 4,
 "nbformat_minor": 5
}
